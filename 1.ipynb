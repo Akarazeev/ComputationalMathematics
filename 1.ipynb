{
 "cells": [
  {
   "cell_type": "code",
   "execution_count": 3,
   "metadata": {
    "collapsed": false
   },
   "outputs": [],
   "source": [
    "import numpy as np\n",
    "import matplotlib\n",
    "import matplotlib.pyplot as plt\n",
    "%matplotlib inline"
   ]
  },
  {
   "cell_type": "code",
   "execution_count": 4,
   "metadata": {
    "collapsed": true
   },
   "outputs": [],
   "source": [
    "class Interpol:\n",
    "    def __init__(self, x, y):\n",
    "        self.x = x\n",
    "        self.y = y\n",
    "        assert(len(x) == len(y))\n",
    "        \n",
    "        # Считаю разделенные разности\n",
    "        self.div_difs = np.zeros((len(y), len(y)))\n",
    "        self.div_difs[:,0] = y\n",
    "\n",
    "        for i in range(1,len(y)):\n",
    "            for j in range(i,len(y)):\n",
    "                self.div_difs[j][i] = (self.div_difs[j][i-1] - self.div_difs[j-1][i-1])\\\n",
    "                                        / (x[j] - x[j-i])\n",
    "    \n",
    "    # Рассчет значения интерполяционного многочлена в точке x_0\n",
    "    def calc(self, x0):\n",
    "        ans = []\n",
    "        tmp = 1\n",
    "        ans.append(tmp)\n",
    "        for i in range(len(self.y)-1):\n",
    "            '''\n",
    "            (x-x_0)\n",
    "            (x-x_0)*(x-x_1)\n",
    "            ...\n",
    "            (x-x_0)*...*(x-x_n)\n",
    "            '''\n",
    "            tmp *= x0 - self.x[i]\n",
    "            ans.append(tmp)\n",
    "            \n",
    "        # f_0 + (x-x_0)*f_1 + (x-x_0)(x-x_1)*f_2 + ...\n",
    "        return np.dot(np.array(ans), np.diag(self.div_difs))\n",
    "    \n",
    "    # Рассчет значения производной интерполяционного многочлена в точке x_0\n",
    "    def deriv(self, x0):\n",
    "        ans = []\n",
    "        tmp = 1\n",
    "        for i in range(len(self.y)-1):\n",
    "            tmp *= x0 - self.x[i]\n",
    "            tmp_for_sum = []\n",
    "            for j in range(i+1):\n",
    "                tmp_for_sum.append(tmp / (x0 - self.x[j]))\n",
    "            ans.append(sum(tmp_for_sum))\n",
    "        return np.dot(np.array(ans), np.diag(self.div_difs)[1:])\n",
    "    \n",
    "    # Построение графика\n",
    "    def draw_plot(self):\n",
    "        plt.figure()\n",
    "        plt.scatter(self.x, self.y)\n",
    "        x = np.linspace(min(self.x), max(self.x), 100)\n",
    "        plt.plot(x, [self.calc(i) for i in x])\n",
    "        plt.show()"
   ]
  },
  {
   "cell_type": "code",
   "execution_count": 5,
   "metadata": {
    "collapsed": false
   },
   "outputs": [
    {
     "data": {
      "image/png": "[encoded data removed]",
      "text/plain": [
       "<matplotlib.figure.Figure at 0x1039f8e10>"
      ]
     },
     "metadata": {},
     "output_type": "display_data"
    }
   ],
   "source": [
    "# x = np.array([1,2,3,4,5])\n",
    "# y = np.array([1,4,9,16,25])\n",
    "x = np.array([-1.2,-1,-0.2,0.1,2,3,4,5])\n",
    "# y = np.array([-2.57215162,-1.55740772, -0.20271004,  0.10033467, -2.18503986, -0.14254654, 1.15782128, -3.38051501])\n",
    "y = np.cos(x)\n",
    "polynom = Interpol(x, y)\n",
    "polynom.draw_plot()"
   ]
  },
  {
   "cell_type": "markdown",
   "metadata": {},
   "source": [
    "Divided differences"
   ]
  },
  {
   "cell_type": "code",
   "execution_count": 6,
   "metadata": {
    "collapsed": false,
    "scrolled": true
   },
   "outputs": [
    {
     "name": "stdout",
     "output_type": "stream",
     "text": [
      "Значение полинома в точке: -0.491055452125\n",
      "Значение производной полинома в точке: 0.866477886768\n"
     ]
    }
   ],
   "source": [
    "p = 4.2\n",
    "print(\"Значение полинома в точке:\", polynom.calc(p))\n",
    "print(\"Значение производной полинома в точке:\", polynom.deriv(p))"
   ]
  },
  {
   "cell_type": "code",
   "execution_count": 7,
   "metadata": {
    "collapsed": false
   },
   "outputs": [
    {
     "data": {
      "text/plain": [
       "0.87157577241358808"
      ]
     },
     "execution_count": 7,
     "metadata": {},
     "output_type": "execute_result"
    }
   ],
   "source": [
    "-np.sin(p)"
   ]
  }
 ],
 "metadata": {
  "kernelspec": {
   "display_name": "Python 3",
   "language": "python",
   "name": "python3"
  },
  "language_info": {
   "codemirror_mode": {
    "name": "ipython",
    "version": 3
   },
   "file_extension": ".py",
   "mimetype": "text/x-python",
   "name": "python",
   "nbconvert_exporter": "python",
   "pygments_lexer": "ipython3",
   "version": "3.5.2"
  }
 },
 "nbformat": 4,
 "nbformat_minor": 0
}
