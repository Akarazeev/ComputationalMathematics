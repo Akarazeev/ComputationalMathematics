{
 "cells": [
  {
   "cell_type": "code",
   "execution_count": 1,
   "metadata": {
    "collapsed": false
   },
   "outputs": [],
   "source": [
    "import pandas as pd\n",
    "import numpy as np\n",
    "from scipy import spatial\n",
    "from numpy import linalg as la\n",
    "import matplotlib.pyplot as plt\n",
    "%matplotlib inline"
   ]
  },
  {
   "cell_type": "code",
   "execution_count": 2,
   "metadata": {
    "collapsed": false
   },
   "outputs": [],
   "source": [
    "# http://www.hpcc.unn.ru/?dir=1052\n",
    "\n",
    "class Jacobi:\n",
    "    \"\"\"\n",
    "    n - dimension of system\n",
    "    \"\"\"\n",
    "    def __init__(self, n):\n",
    "        self.n = n\n",
    "        def pos_semidef_mtx():\n",
    "            tmp_mtx = np.random.randint(4, size=(self.n, self.n))\n",
    "            return np.dot(tmp_mtx, tmp_mtx.T)\n",
    "        self.A = pos_semidef_mtx()\n",
    "        for i in range(self.n):\n",
    "            tmp = 0\n",
    "            for j in range(self.n):\n",
    "                tmp += self.A[i,j]\n",
    "            self.A[i,i] += tmp\n",
    "        self.b = np.random.rand(self.n)\n",
    "        def alpha_mat():\n",
    "            alpha_mtx = np.zeros((self.n, self.n))\n",
    "            for i in range(0, self.n):\n",
    "                for j in range(0, self.n):\n",
    "                    if i != j:\n",
    "                        alpha_mtx[i][j] = - self.A[j][i] / self.A[i][i]\n",
    "            return alpha_mtx\n",
    "        self.alpha = alpha_mat()\n",
    "        def beta_vec():\n",
    "            return self.b / np.diag(self.A)\n",
    "        self.beta = beta_vec()\n",
    "        \n",
    "        def check_diag_nonzero(mat):\n",
    "            return all(x != 0 for x in np.diag(mat))\n",
    "        assert(check_diag_nonzero(self.A) == 1)\n",
    "    \n",
    "    def solve(self, tolerance=1e-10):\n",
    "        assert(tolerance > 0)\n",
    "        x_prev = self.beta\n",
    "        converged = 0\n",
    "        for i in range(1000):\n",
    "            x_next = np.dot(self.alpha, x_prev.T) + self.beta\n",
    "            if max(abs(x_prev - x_next)) < tolerance:\n",
    "                converged = 1\n",
    "                break\n",
    "            x_prev = x_next\n",
    "        return (x_next, i, converged)\n",
    "    \n",
    "    def linalg_solve(self):\n",
    "        return np.linalg.solve(self.A, self.b)\n",
    "    \n",
    "    def calc_error(self, tolerance=1e-10):\n",
    "        return spatial.distance.euclidean(self.solve(tolerance)[0], self.linalg_solve())\n",
    "    \n",
    "    def get_eigen_vals(self):\n",
    "        return la.eigvals(self.A)\n",
    "    \n",
    "    def __repr__(self):\n",
    "        return (\"A: {}\\n\\n\"\n",
    "                \"b: {}\\n\\n\"\n",
    "                \"alpha:\\n {}\\n\\n\"\n",
    "                \"beta: {}\".format(self.A, self.b, self.alpha, self.beta))\n",
    "        \n",
    "    def __str__(self):\n",
    "        return (\"A: {}\\n\\n\"\n",
    "                \"b: {}\\n\\n\"\n",
    "                \"alpha:\\n {}\\n\\n\"\n",
    "                \"beta: {}\".format(self.A, self.b, self.alpha, self.beta))"
   ]
  },
  {
   "cell_type": "code",
   "execution_count": 5,
   "metadata": {
    "collapsed": false,
    "scrolled": true
   },
   "outputs": [
    {
     "name": "stdout",
     "output_type": "stream",
     "text": [
      "A: [[156  24  15  24  21]\n",
      " [ 24 120  15  18  15]\n",
      " [ 15  15  95  20   9]\n",
      " [ 24  18  20 126  12]\n",
      " [ 21  15   9  12  93]]\n",
      "\n",
      "b: [ 0.11483713  0.29593421  0.7857676   0.3876887   0.66832797]\n",
      "\n",
      "alpha:\n",
      " [[ 0.         -0.15384615 -0.09615385 -0.15384615 -0.13461538]\n",
      " [-0.2         0.         -0.125      -0.15       -0.125     ]\n",
      " [-0.15789474 -0.15789474  0.         -0.21052632 -0.09473684]\n",
      " [-0.19047619 -0.14285714 -0.15873016  0.         -0.0952381 ]\n",
      " [-0.22580645 -0.16129032 -0.09677419 -0.12903226  0.        ]]\n",
      "\n",
      "beta: [ 0.00073614  0.00246612  0.00827124  0.00307689  0.00718632]\n",
      "<------|------>\n",
      "\n",
      "Собственные числа: [ 199.43467053  117.45854494  104.82976204   84.98858532   83.28843716]\n",
      "Точное решение:               [-0.00117625  0.00075846  0.00743327  0.00140037  0.00642955]\n",
      "Решение итерационным методом: [-0.00117625  0.00075846  0.00743327  0.00140037  0.00642955]\n",
      "Число итераций: 32\n",
      "Точная ошибка: 7.867736228605049e-11\n"
     ]
    }
   ],
   "source": [
    "j = Jacobi(5)\n",
    "print(j)\n",
    "sol = j.solve()\n",
    "print('<------|------>\\n')\n",
    "print('Собственные числа:', j.get_eigen_vals())\n",
    "print('Точное решение:              ', np.linalg.solve(j.A, j.b))\n",
    "print('Решение итерационным методом:', sol[0])\n",
    "print('Число итераций:', sol[1])\n",
    "print('Точная ошибка:', j.calc_error())"
   ]
  }
 ],
 "metadata": {
  "kernelspec": {
   "display_name": "Python 3",
   "language": "python",
   "name": "python3"
  },
  "language_info": {
   "codemirror_mode": {
    "name": "ipython",
    "version": 3
   },
   "file_extension": ".py",
   "mimetype": "text/x-python",
   "name": "python",
   "nbconvert_exporter": "python",
   "pygments_lexer": "ipython3",
   "version": "3.5.2"
  }
 },
 "nbformat": 4,
 "nbformat_minor": 0
}
